{
  "nbformat": 4,
  "nbformat_minor": 0,
  "metadata": {
    "colab": {
      "provenance": [],
      "collapsed_sections": [
        "rqsixDy9gejZ",
        "CkqqmfC-g_ES",
        "qNSIi8_zhCoC"
      ],
      "authorship_tag": "ABX9TyNAxuio8QWSDts+Og/Wr/R+",
      "include_colab_link": true
    },
    "kernelspec": {
      "name": "python3",
      "display_name": "Python 3"
    },
    "language_info": {
      "name": "python"
    }
  },
  "cells": [
    {
      "cell_type": "markdown",
      "metadata": {
        "id": "view-in-github",
        "colab_type": "text"
      },
      "source": [
        "<a href=\"https://colab.research.google.com/github/Lilwm/Introduction-to-regression/blob/main/Introduction_to_Regression_Assignment_Lillian_Miiri.ipynb\" target=\"_parent\"><img src=\"https://colab.research.google.com/assets/colab-badge.svg\" alt=\"Open In Colab\"/></a>"
      ]
    },
    {
      "cell_type": "markdown",
      "source": [
        "#Introduction\n",
        "Mobile carrier Megaline has found out that many of their subscribers use legacy plans.\n",
        "They want to develop a model that would analyze subscribers' behavior and recommend\n",
        "one of Megaline's newer plans: Smart or Ultra\n",
        "\n",
        "## Success Metrics\n",
        "\n",
        "For this classification task, we need to develop a model that will pick the right plan at an accuracy is >= 0.75"
      ],
      "metadata": {
        "id": "G0Ly5L7_gFVN"
      }
    },
    {
      "cell_type": "markdown",
      "source": [
        "#1. Data Importation"
      ],
      "metadata": {
        "id": "rqsixDy9gejZ"
      }
    },
    {
      "cell_type": "code",
      "source": [
        "#Data Importation\n",
        "import pandas as pd\n",
        "import numpy as np\n",
        "\n",
        "sub_df = pd.read_csv('https://bit.ly/UsersBehaviourTelco')\n"
      ],
      "metadata": {
        "id": "1x7VcGl3gZ8x"
      },
      "execution_count": 2,
      "outputs": []
    },
    {
      "cell_type": "markdown",
      "source": [
        "# 2. Data Exploration"
      ],
      "metadata": {
        "id": "CkqqmfC-g_ES"
      }
    },
    {
      "cell_type": "code",
      "source": [
        "#check the first five records\n",
        "print(sub_df.head())\n",
        "\n",
        "#check number of rows and columns\n",
        "print(sub_df.shape) "
      ],
      "metadata": {
        "id": "YpE213-vhtca",
        "colab": {
          "base_uri": "https://localhost:8080/"
        },
        "outputId": "6584befd-86ad-47a3-ddcc-5f8133dd2bfd"
      },
      "execution_count": 3,
      "outputs": [
        {
          "output_type": "stream",
          "name": "stdout",
          "text": [
            "   calls  minutes  messages   mb_used  is_ultra\n",
            "0   40.0   311.90      83.0  19915.42         0\n",
            "1   85.0   516.75      56.0  22696.96         0\n",
            "2   77.0   467.66      86.0  21060.45         0\n",
            "3  106.0   745.53      81.0   8437.39         1\n",
            "4   66.0   418.74       1.0  14502.75         0\n",
            "(3214, 5)\n"
          ]
        }
      ]
    },
    {
      "cell_type": "code",
      "source": [
        "#check the last five records\n",
        "sub_df.tail()"
      ],
      "metadata": {
        "id": "ehSF6lXFh0Jz",
        "colab": {
          "base_uri": "https://localhost:8080/",
          "height": 0
        },
        "outputId": "bba34098-0312-468d-abb1-1ca1e9bcd44a"
      },
      "execution_count": 4,
      "outputs": [
        {
          "output_type": "execute_result",
          "data": {
            "text/plain": [
              "      calls  minutes  messages   mb_used  is_ultra\n",
              "3209  122.0   910.98      20.0  35124.90         1\n",
              "3210   25.0   190.36       0.0   3275.61         0\n",
              "3211   97.0   634.44      70.0  13974.06         0\n",
              "3212   64.0   462.32      90.0  31239.78         0\n",
              "3213   80.0   566.09       6.0  29480.52         1"
            ],
            "text/html": [
              "\n",
              "  <div id=\"df-94b3a85f-6142-46ff-9fd4-389b99f8b091\">\n",
              "    <div class=\"colab-df-container\">\n",
              "      <div>\n",
              "<style scoped>\n",
              "    .dataframe tbody tr th:only-of-type {\n",
              "        vertical-align: middle;\n",
              "    }\n",
              "\n",
              "    .dataframe tbody tr th {\n",
              "        vertical-align: top;\n",
              "    }\n",
              "\n",
              "    .dataframe thead th {\n",
              "        text-align: right;\n",
              "    }\n",
              "</style>\n",
              "<table border=\"1\" class=\"dataframe\">\n",
              "  <thead>\n",
              "    <tr style=\"text-align: right;\">\n",
              "      <th></th>\n",
              "      <th>calls</th>\n",
              "      <th>minutes</th>\n",
              "      <th>messages</th>\n",
              "      <th>mb_used</th>\n",
              "      <th>is_ultra</th>\n",
              "    </tr>\n",
              "  </thead>\n",
              "  <tbody>\n",
              "    <tr>\n",
              "      <th>3209</th>\n",
              "      <td>122.0</td>\n",
              "      <td>910.98</td>\n",
              "      <td>20.0</td>\n",
              "      <td>35124.90</td>\n",
              "      <td>1</td>\n",
              "    </tr>\n",
              "    <tr>\n",
              "      <th>3210</th>\n",
              "      <td>25.0</td>\n",
              "      <td>190.36</td>\n",
              "      <td>0.0</td>\n",
              "      <td>3275.61</td>\n",
              "      <td>0</td>\n",
              "    </tr>\n",
              "    <tr>\n",
              "      <th>3211</th>\n",
              "      <td>97.0</td>\n",
              "      <td>634.44</td>\n",
              "      <td>70.0</td>\n",
              "      <td>13974.06</td>\n",
              "      <td>0</td>\n",
              "    </tr>\n",
              "    <tr>\n",
              "      <th>3212</th>\n",
              "      <td>64.0</td>\n",
              "      <td>462.32</td>\n",
              "      <td>90.0</td>\n",
              "      <td>31239.78</td>\n",
              "      <td>0</td>\n",
              "    </tr>\n",
              "    <tr>\n",
              "      <th>3213</th>\n",
              "      <td>80.0</td>\n",
              "      <td>566.09</td>\n",
              "      <td>6.0</td>\n",
              "      <td>29480.52</td>\n",
              "      <td>1</td>\n",
              "    </tr>\n",
              "  </tbody>\n",
              "</table>\n",
              "</div>\n",
              "      <button class=\"colab-df-convert\" onclick=\"convertToInteractive('df-94b3a85f-6142-46ff-9fd4-389b99f8b091')\"\n",
              "              title=\"Convert this dataframe to an interactive table.\"\n",
              "              style=\"display:none;\">\n",
              "        \n",
              "  <svg xmlns=\"http://www.w3.org/2000/svg\" height=\"24px\"viewBox=\"0 0 24 24\"\n",
              "       width=\"24px\">\n",
              "    <path d=\"M0 0h24v24H0V0z\" fill=\"none\"/>\n",
              "    <path d=\"M18.56 5.44l.94 2.06.94-2.06 2.06-.94-2.06-.94-.94-2.06-.94 2.06-2.06.94zm-11 1L8.5 8.5l.94-2.06 2.06-.94-2.06-.94L8.5 2.5l-.94 2.06-2.06.94zm10 10l.94 2.06.94-2.06 2.06-.94-2.06-.94-.94-2.06-.94 2.06-2.06.94z\"/><path d=\"M17.41 7.96l-1.37-1.37c-.4-.4-.92-.59-1.43-.59-.52 0-1.04.2-1.43.59L10.3 9.45l-7.72 7.72c-.78.78-.78 2.05 0 2.83L4 21.41c.39.39.9.59 1.41.59.51 0 1.02-.2 1.41-.59l7.78-7.78 2.81-2.81c.8-.78.8-2.07 0-2.86zM5.41 20L4 18.59l7.72-7.72 1.47 1.35L5.41 20z\"/>\n",
              "  </svg>\n",
              "      </button>\n",
              "      \n",
              "  <style>\n",
              "    .colab-df-container {\n",
              "      display:flex;\n",
              "      flex-wrap:wrap;\n",
              "      gap: 12px;\n",
              "    }\n",
              "\n",
              "    .colab-df-convert {\n",
              "      background-color: #E8F0FE;\n",
              "      border: none;\n",
              "      border-radius: 50%;\n",
              "      cursor: pointer;\n",
              "      display: none;\n",
              "      fill: #1967D2;\n",
              "      height: 32px;\n",
              "      padding: 0 0 0 0;\n",
              "      width: 32px;\n",
              "    }\n",
              "\n",
              "    .colab-df-convert:hover {\n",
              "      background-color: #E2EBFA;\n",
              "      box-shadow: 0px 1px 2px rgba(60, 64, 67, 0.3), 0px 1px 3px 1px rgba(60, 64, 67, 0.15);\n",
              "      fill: #174EA6;\n",
              "    }\n",
              "\n",
              "    [theme=dark] .colab-df-convert {\n",
              "      background-color: #3B4455;\n",
              "      fill: #D2E3FC;\n",
              "    }\n",
              "\n",
              "    [theme=dark] .colab-df-convert:hover {\n",
              "      background-color: #434B5C;\n",
              "      box-shadow: 0px 1px 3px 1px rgba(0, 0, 0, 0.15);\n",
              "      filter: drop-shadow(0px 1px 2px rgba(0, 0, 0, 0.3));\n",
              "      fill: #FFFFFF;\n",
              "    }\n",
              "  </style>\n",
              "\n",
              "      <script>\n",
              "        const buttonEl =\n",
              "          document.querySelector('#df-94b3a85f-6142-46ff-9fd4-389b99f8b091 button.colab-df-convert');\n",
              "        buttonEl.style.display =\n",
              "          google.colab.kernel.accessAllowed ? 'block' : 'none';\n",
              "\n",
              "        async function convertToInteractive(key) {\n",
              "          const element = document.querySelector('#df-94b3a85f-6142-46ff-9fd4-389b99f8b091');\n",
              "          const dataTable =\n",
              "            await google.colab.kernel.invokeFunction('convertToInteractive',\n",
              "                                                     [key], {});\n",
              "          if (!dataTable) return;\n",
              "\n",
              "          const docLinkHtml = 'Like what you see? Visit the ' +\n",
              "            '<a target=\"_blank\" href=https://colab.research.google.com/notebooks/data_table.ipynb>data table notebook</a>'\n",
              "            + ' to learn more about interactive tables.';\n",
              "          element.innerHTML = '';\n",
              "          dataTable['output_type'] = 'display_data';\n",
              "          await google.colab.output.renderOutput(dataTable, element);\n",
              "          const docLink = document.createElement('div');\n",
              "          docLink.innerHTML = docLinkHtml;\n",
              "          element.appendChild(docLink);\n",
              "        }\n",
              "      </script>\n",
              "    </div>\n",
              "  </div>\n",
              "  "
            ]
          },
          "metadata": {},
          "execution_count": 4
        }
      ]
    },
    {
      "cell_type": "code",
      "source": [
        "#check data types and column info\n",
        "sub_df.info()"
      ],
      "metadata": {
        "id": "h3sOZkXuiASa",
        "colab": {
          "base_uri": "https://localhost:8080/"
        },
        "outputId": "44cd5273-1c2e-41b1-ae81-1ff9d7358586"
      },
      "execution_count": 5,
      "outputs": [
        {
          "output_type": "stream",
          "name": "stdout",
          "text": [
            "<class 'pandas.core.frame.DataFrame'>\n",
            "RangeIndex: 3214 entries, 0 to 3213\n",
            "Data columns (total 5 columns):\n",
            " #   Column    Non-Null Count  Dtype  \n",
            "---  ------    --------------  -----  \n",
            " 0   calls     3214 non-null   float64\n",
            " 1   minutes   3214 non-null   float64\n",
            " 2   messages  3214 non-null   float64\n",
            " 3   mb_used   3214 non-null   float64\n",
            " 4   is_ultra  3214 non-null   int64  \n",
            "dtypes: float64(4), int64(1)\n",
            "memory usage: 125.7 KB\n"
          ]
        }
      ]
    },
    {
      "cell_type": "code",
      "source": [
        "# check summary of the data\n",
        "sub_df.describe()"
      ],
      "metadata": {
        "id": "ZsZeaCyxiOkV",
        "colab": {
          "base_uri": "https://localhost:8080/",
          "height": 0
        },
        "outputId": "9442dca4-a8c8-43e8-cf91-186a7b9d6a16"
      },
      "execution_count": 6,
      "outputs": [
        {
          "output_type": "execute_result",
          "data": {
            "text/plain": [
              "             calls      minutes     messages       mb_used     is_ultra\n",
              "count  3214.000000  3214.000000  3214.000000   3214.000000  3214.000000\n",
              "mean     63.038892   438.208787    38.281269  17207.673836     0.306472\n",
              "std      33.236368   234.569872    36.148326   7570.968246     0.461100\n",
              "min       0.000000     0.000000     0.000000      0.000000     0.000000\n",
              "25%      40.000000   274.575000     9.000000  12491.902500     0.000000\n",
              "50%      62.000000   430.600000    30.000000  16943.235000     0.000000\n",
              "75%      82.000000   571.927500    57.000000  21424.700000     1.000000\n",
              "max     244.000000  1632.060000   224.000000  49745.730000     1.000000"
            ],
            "text/html": [
              "\n",
              "  <div id=\"df-e34a09b2-604e-4f6c-8fe8-da0468e9e2b3\">\n",
              "    <div class=\"colab-df-container\">\n",
              "      <div>\n",
              "<style scoped>\n",
              "    .dataframe tbody tr th:only-of-type {\n",
              "        vertical-align: middle;\n",
              "    }\n",
              "\n",
              "    .dataframe tbody tr th {\n",
              "        vertical-align: top;\n",
              "    }\n",
              "\n",
              "    .dataframe thead th {\n",
              "        text-align: right;\n",
              "    }\n",
              "</style>\n",
              "<table border=\"1\" class=\"dataframe\">\n",
              "  <thead>\n",
              "    <tr style=\"text-align: right;\">\n",
              "      <th></th>\n",
              "      <th>calls</th>\n",
              "      <th>minutes</th>\n",
              "      <th>messages</th>\n",
              "      <th>mb_used</th>\n",
              "      <th>is_ultra</th>\n",
              "    </tr>\n",
              "  </thead>\n",
              "  <tbody>\n",
              "    <tr>\n",
              "      <th>count</th>\n",
              "      <td>3214.000000</td>\n",
              "      <td>3214.000000</td>\n",
              "      <td>3214.000000</td>\n",
              "      <td>3214.000000</td>\n",
              "      <td>3214.000000</td>\n",
              "    </tr>\n",
              "    <tr>\n",
              "      <th>mean</th>\n",
              "      <td>63.038892</td>\n",
              "      <td>438.208787</td>\n",
              "      <td>38.281269</td>\n",
              "      <td>17207.673836</td>\n",
              "      <td>0.306472</td>\n",
              "    </tr>\n",
              "    <tr>\n",
              "      <th>std</th>\n",
              "      <td>33.236368</td>\n",
              "      <td>234.569872</td>\n",
              "      <td>36.148326</td>\n",
              "      <td>7570.968246</td>\n",
              "      <td>0.461100</td>\n",
              "    </tr>\n",
              "    <tr>\n",
              "      <th>min</th>\n",
              "      <td>0.000000</td>\n",
              "      <td>0.000000</td>\n",
              "      <td>0.000000</td>\n",
              "      <td>0.000000</td>\n",
              "      <td>0.000000</td>\n",
              "    </tr>\n",
              "    <tr>\n",
              "      <th>25%</th>\n",
              "      <td>40.000000</td>\n",
              "      <td>274.575000</td>\n",
              "      <td>9.000000</td>\n",
              "      <td>12491.902500</td>\n",
              "      <td>0.000000</td>\n",
              "    </tr>\n",
              "    <tr>\n",
              "      <th>50%</th>\n",
              "      <td>62.000000</td>\n",
              "      <td>430.600000</td>\n",
              "      <td>30.000000</td>\n",
              "      <td>16943.235000</td>\n",
              "      <td>0.000000</td>\n",
              "    </tr>\n",
              "    <tr>\n",
              "      <th>75%</th>\n",
              "      <td>82.000000</td>\n",
              "      <td>571.927500</td>\n",
              "      <td>57.000000</td>\n",
              "      <td>21424.700000</td>\n",
              "      <td>1.000000</td>\n",
              "    </tr>\n",
              "    <tr>\n",
              "      <th>max</th>\n",
              "      <td>244.000000</td>\n",
              "      <td>1632.060000</td>\n",
              "      <td>224.000000</td>\n",
              "      <td>49745.730000</td>\n",
              "      <td>1.000000</td>\n",
              "    </tr>\n",
              "  </tbody>\n",
              "</table>\n",
              "</div>\n",
              "      <button class=\"colab-df-convert\" onclick=\"convertToInteractive('df-e34a09b2-604e-4f6c-8fe8-da0468e9e2b3')\"\n",
              "              title=\"Convert this dataframe to an interactive table.\"\n",
              "              style=\"display:none;\">\n",
              "        \n",
              "  <svg xmlns=\"http://www.w3.org/2000/svg\" height=\"24px\"viewBox=\"0 0 24 24\"\n",
              "       width=\"24px\">\n",
              "    <path d=\"M0 0h24v24H0V0z\" fill=\"none\"/>\n",
              "    <path d=\"M18.56 5.44l.94 2.06.94-2.06 2.06-.94-2.06-.94-.94-2.06-.94 2.06-2.06.94zm-11 1L8.5 8.5l.94-2.06 2.06-.94-2.06-.94L8.5 2.5l-.94 2.06-2.06.94zm10 10l.94 2.06.94-2.06 2.06-.94-2.06-.94-.94-2.06-.94 2.06-2.06.94z\"/><path d=\"M17.41 7.96l-1.37-1.37c-.4-.4-.92-.59-1.43-.59-.52 0-1.04.2-1.43.59L10.3 9.45l-7.72 7.72c-.78.78-.78 2.05 0 2.83L4 21.41c.39.39.9.59 1.41.59.51 0 1.02-.2 1.41-.59l7.78-7.78 2.81-2.81c.8-.78.8-2.07 0-2.86zM5.41 20L4 18.59l7.72-7.72 1.47 1.35L5.41 20z\"/>\n",
              "  </svg>\n",
              "      </button>\n",
              "      \n",
              "  <style>\n",
              "    .colab-df-container {\n",
              "      display:flex;\n",
              "      flex-wrap:wrap;\n",
              "      gap: 12px;\n",
              "    }\n",
              "\n",
              "    .colab-df-convert {\n",
              "      background-color: #E8F0FE;\n",
              "      border: none;\n",
              "      border-radius: 50%;\n",
              "      cursor: pointer;\n",
              "      display: none;\n",
              "      fill: #1967D2;\n",
              "      height: 32px;\n",
              "      padding: 0 0 0 0;\n",
              "      width: 32px;\n",
              "    }\n",
              "\n",
              "    .colab-df-convert:hover {\n",
              "      background-color: #E2EBFA;\n",
              "      box-shadow: 0px 1px 2px rgba(60, 64, 67, 0.3), 0px 1px 3px 1px rgba(60, 64, 67, 0.15);\n",
              "      fill: #174EA6;\n",
              "    }\n",
              "\n",
              "    [theme=dark] .colab-df-convert {\n",
              "      background-color: #3B4455;\n",
              "      fill: #D2E3FC;\n",
              "    }\n",
              "\n",
              "    [theme=dark] .colab-df-convert:hover {\n",
              "      background-color: #434B5C;\n",
              "      box-shadow: 0px 1px 3px 1px rgba(0, 0, 0, 0.15);\n",
              "      filter: drop-shadow(0px 1px 2px rgba(0, 0, 0, 0.3));\n",
              "      fill: #FFFFFF;\n",
              "    }\n",
              "  </style>\n",
              "\n",
              "      <script>\n",
              "        const buttonEl =\n",
              "          document.querySelector('#df-e34a09b2-604e-4f6c-8fe8-da0468e9e2b3 button.colab-df-convert');\n",
              "        buttonEl.style.display =\n",
              "          google.colab.kernel.accessAllowed ? 'block' : 'none';\n",
              "\n",
              "        async function convertToInteractive(key) {\n",
              "          const element = document.querySelector('#df-e34a09b2-604e-4f6c-8fe8-da0468e9e2b3');\n",
              "          const dataTable =\n",
              "            await google.colab.kernel.invokeFunction('convertToInteractive',\n",
              "                                                     [key], {});\n",
              "          if (!dataTable) return;\n",
              "\n",
              "          const docLinkHtml = 'Like what you see? Visit the ' +\n",
              "            '<a target=\"_blank\" href=https://colab.research.google.com/notebooks/data_table.ipynb>data table notebook</a>'\n",
              "            + ' to learn more about interactive tables.';\n",
              "          element.innerHTML = '';\n",
              "          dataTable['output_type'] = 'display_data';\n",
              "          await google.colab.output.renderOutput(dataTable, element);\n",
              "          const docLink = document.createElement('div');\n",
              "          docLink.innerHTML = docLinkHtml;\n",
              "          element.appendChild(docLink);\n",
              "        }\n",
              "      </script>\n",
              "    </div>\n",
              "  </div>\n",
              "  "
            ]
          },
          "metadata": {},
          "execution_count": 6
        }
      ]
    },
    {
      "cell_type": "code",
      "source": [
        "#check for missing values\n",
        "sub_df.isna().sum()"
      ],
      "metadata": {
        "colab": {
          "base_uri": "https://localhost:8080/"
        },
        "id": "5P2ae2_1d5Fm",
        "outputId": "5024a468-102c-4576-fa8b-f1733bdee21e"
      },
      "execution_count": 7,
      "outputs": [
        {
          "output_type": "execute_result",
          "data": {
            "text/plain": [
              "calls       0\n",
              "minutes     0\n",
              "messages    0\n",
              "mb_used     0\n",
              "is_ultra    0\n",
              "dtype: int64"
            ]
          },
          "metadata": {},
          "execution_count": 7
        }
      ]
    },
    {
      "cell_type": "markdown",
      "source": [
        "## observations\n",
        "- data had 5 columns and 3214 records\n",
        "-  The data frame seems to have no missing values"
      ],
      "metadata": {
        "id": "21dXpo6Ii5Lr"
      }
    },
    {
      "cell_type": "markdown",
      "source": [
        "#3. Data Cleaning /preparation"
      ],
      "metadata": {
        "id": "qNSIi8_zhCoC"
      }
    },
    {
      "cell_type": "code",
      "source": [
        "#check for duplicates\n",
        "print(sub_df.duplicated().sum())\n",
        " \n",
        " #check for missing values\n",
        "print(sub_df.isna().sum())"
      ],
      "metadata": {
        "colab": {
          "base_uri": "https://localhost:8080/"
        },
        "id": "9ltw2XZGeSux",
        "outputId": "227abfda-6c7d-43ea-c0a9-4d5948e53a14"
      },
      "execution_count": 8,
      "outputs": [
        {
          "output_type": "stream",
          "name": "stdout",
          "text": [
            "0\n",
            "calls       0\n",
            "minutes     0\n",
            "messages    0\n",
            "mb_used     0\n",
            "is_ultra    0\n",
            "dtype: int64\n"
          ]
        }
      ]
    },
    {
      "cell_type": "code",
      "source": [
        "#check data types\n",
        "sub_df.dtypes "
      ],
      "metadata": {
        "colab": {
          "base_uri": "https://localhost:8080/"
        },
        "id": "pnf4oxURfiV5",
        "outputId": "cb258ee7-41df-4cbd-d4fc-5ba17e93ea10"
      },
      "execution_count": 9,
      "outputs": [
        {
          "output_type": "execute_result",
          "data": {
            "text/plain": [
              "calls       float64\n",
              "minutes     float64\n",
              "messages    float64\n",
              "mb_used     float64\n",
              "is_ultra      int64\n",
              "dtype: object"
            ]
          },
          "metadata": {},
          "execution_count": 9
        }
      ]
    },
    {
      "cell_type": "markdown",
      "source": [
        "## Observations\n",
        " * all variable are numeric, good for regression methods prediction\n",
        " *  Data frame has no missing values or duplicate records"
      ],
      "metadata": {
        "id": "mF0HPUknf0J5"
      }
    },
    {
      "cell_type": "markdown",
      "source": [
        "#4. Data Modelling\n",
        " model using Decision Trees, Random Forest and Logistic Regression\n"
      ],
      "metadata": {
        "id": "ek8xtJ_YhMnq"
      }
    },
    {
      "cell_type": "code",
      "source": [
        "#import Libraries\n",
        "from sklearn.tree import DecisionTreeRegressor, DecisionTreeClassifier\n",
        "from sklearn.ensemble import RandomForestRegressor, RandomForestClassifier\n",
        "from sklearn.linear_model import LogisticRegression\n",
        "from sklearn.model_selection import train_test_split \n",
        "from sklearn.model_selection import cross_val_score\n",
        "from sklearn.metrics import accuracy_score, mean_squared_error"
      ],
      "metadata": {
        "id": "HFbKT9wthUAi"
      },
      "execution_count": 10,
      "outputs": []
    },
    {
      "cell_type": "code",
      "source": [
        "features = sub_df.drop(['is_ultra'], axis=1)\n",
        "target = sub_df['is_ultra']\n",
        "\n",
        "#separate source dataset into train, test. declare the feature and target variable\n",
        "features_train, features_test_valid = train_test_split(features, test_size=0.25, random_state=12345)\n",
        "target_train, target_test_valid = train_test_split(target, test_size=0.25, random_state=12345)\n",
        "features_valid, features_test = train_test_split(features_test_valid, test_size=0.5, random_state=12345)\n",
        "target_valid, target_test = train_test_split(target_test_valid, test_size=0.5, random_state=12345)\n",
        "#check the shape of the split datasource\n",
        "print(features_train.shape)\n",
        "print(features_valid.shape)\n",
        "print(features_test.shape)"
      ],
      "metadata": {
        "id": "gh1_Px9Ec38A",
        "colab": {
          "base_uri": "https://localhost:8080/"
        },
        "outputId": "61456e44-8b75-4c9f-e746-6dd0a68b5262"
      },
      "execution_count": 36,
      "outputs": [
        {
          "output_type": "stream",
          "name": "stdout",
          "text": [
            "(2410, 4)\n",
            "(402, 4)\n",
            "(402, 4)\n"
          ]
        }
      ]
    },
    {
      "cell_type": "markdown",
      "source": [
        "#5. Model Evaluation"
      ],
      "metadata": {
        "id": "AadtFsqSC3bC"
      }
    },
    {
      "cell_type": "code",
      "source": [
        "#find accuracy for decision tree\n",
        "model = DecisionTreeClassifier()\n",
        "model.fit(features_train, target_train)\n",
        "print(f'Decision Tree has accuracy of: {model.score(features_valid, target_valid)}')\n"
      ],
      "metadata": {
        "colab": {
          "base_uri": "https://localhost:8080/"
        },
        "id": "1Zg1SOdTep0U",
        "outputId": "440258e8-1ed6-4c8f-8f3b-c9ba92923b40"
      },
      "execution_count": 37,
      "outputs": [
        {
          "output_type": "stream",
          "name": "stdout",
          "text": [
            "Decision Tree has accuracy of: 0.7164179104477612\n"
          ]
        }
      ]
    },
    {
      "cell_type": "code",
      "source": [
        "#Random Forest\n",
        "model = RandomForestClassifier()\n",
        "model.fit(features_train, target_train)\n",
        "print(f'Random Forest has accuracy of: {model.score(features_valid, target_valid)}')"
      ],
      "metadata": {
        "colab": {
          "base_uri": "https://localhost:8080/"
        },
        "id": "c5079PtDiC6z",
        "outputId": "9449d972-4128-4d0b-a820-8848fab35d87"
      },
      "execution_count": 42,
      "outputs": [
        {
          "output_type": "stream",
          "name": "stdout",
          "text": [
            "Random Forest has accuracy of: 0.7860696517412935\n"
          ]
        }
      ]
    },
    {
      "cell_type": "code",
      "source": [
        "#declare a model for logistic regression\n",
        "log = LogisticRegression(random_state=1234, solver='liblinear')\n",
        "log.fit(features_train, target_train)\n",
        "print(f'logistic regression has accuracy of: {log.score(features_valid, target_valid)}')"
      ],
      "metadata": {
        "id": "-_1NzumJk5x7",
        "colab": {
          "base_uri": "https://localhost:8080/"
        },
        "outputId": "6ee709fd-cd95-446f-aa17-0cdccfbc2f66"
      },
      "execution_count": 44,
      "outputs": [
        {
          "output_type": "stream",
          "name": "stdout",
          "text": [
            "logistic regression has accuracy of: 0.7661691542288557\n"
          ]
        }
      ]
    },
    {
      "cell_type": "markdown",
      "source": [
        "## Observations\n",
        "\n",
        "\n",
        "*   Random Forest had the highest accuracy score at 78.6% followed by logistic regression at 76.6% and lastly decision tree classifier at 71.6%\n",
        "*   Given that we're looking for an accuracy score > 75%, We need to tune the hyperparameters for decision tree to achieve a greater accuracy score\n",
        "\n",
        "\n",
        "\n"
      ],
      "metadata": {
        "id": "9XselK708_pU"
      }
    },
    {
      "cell_type": "markdown",
      "source": [
        "#6. Hyparameter Tuning\n"
      ],
      "metadata": {
        "id": "hp1FmGBshZqb"
      }
    },
    {
      "cell_type": "code",
      "source": [
        "#Decision Tree\n",
        "for depth in range(1,5):\n",
        "  tree = DecisionTreeClassifier(max_depth=depth, random_state=12345)\n",
        "  tree.fit(features_train, target_train)\n",
        "  print(f'Decision tree accuracy: {tree.score(features_valid, target_valid)} at depth of: {depth}')"
      ],
      "metadata": {
        "id": "fVh1Zfdahebz",
        "colab": {
          "base_uri": "https://localhost:8080/"
        },
        "outputId": "dc6d57e3-89aa-4e21-98ab-fe7efbb8fc79"
      },
      "execution_count": 46,
      "outputs": [
        {
          "output_type": "stream",
          "name": "stdout",
          "text": [
            "Decision tree accuracy: 0.763681592039801 at depth of: 1\n",
            "Decision tree accuracy: 0.7935323383084577 at depth of: 2\n",
            "Decision tree accuracy: 0.7985074626865671 at depth of: 3\n",
            "Decision tree accuracy: 0.7985074626865671 at depth of: 4\n"
          ]
        }
      ]
    },
    {
      "cell_type": "markdown",
      "source": [
        "We get the best accuracy score(79.85%) at depth = 3"
      ],
      "metadata": {
        "id": "k0GR3QOGF1t5"
      }
    },
    {
      "cell_type": "code",
      "source": [
        "#Random Forest\n",
        "for trees in range(1,5):\n",
        "  forest = RandomForestClassifier(n_estimators=trees, random_state=12345)\n",
        "  forest.fit(features_train, target_train)\n",
        "  print(f'Random forest accuracy: {forest.score(features_valid, target_valid)} at {trees} trees')"
      ],
      "metadata": {
        "colab": {
          "base_uri": "https://localhost:8080/"
        },
        "id": "tPsriQt87_79",
        "outputId": "70051a94-d85c-4658-8973-8cfb97ef2f3d"
      },
      "execution_count": 47,
      "outputs": [
        {
          "output_type": "stream",
          "name": "stdout",
          "text": [
            "Random forest accuracy: 0.7189054726368159 at 1 trees\n",
            "Random forest accuracy: 0.7786069651741293 at 2 trees\n",
            "Random forest accuracy: 0.7736318407960199 at 3 trees\n",
            "Random forest accuracy: 0.8009950248756219 at 4 trees\n"
          ]
        }
      ]
    },
    {
      "cell_type": "markdown",
      "source": [
        "We get an improved accuracy score of 80.09% at n_estimators = 4."
      ],
      "metadata": {
        "id": "fZL6-wlVHYIH"
      }
    },
    {
      "cell_type": "markdown",
      "source": [
        "## Observations"
      ],
      "metadata": {
        "id": "KDBFDgKLhe_K"
      }
    },
    {
      "cell_type": "markdown",
      "source": [
        "\n",
        "\n",
        "*   Random Forest  had the highest accuracy score 80.09% after setting n_estimators to 4 compared to decision Tree at the same depth (80% vs 79.8%)\n",
        "*   After hypertuning, accuracy scores for decision tree classifier improved from 71.7% to 79.8%\n",
        "\n"
      ],
      "metadata": {
        "id": "fgrfs0LiOOy-"
      }
    },
    {
      "cell_type": "markdown",
      "source": [
        "#7. Testing the model"
      ],
      "metadata": {
        "id": "Iq1f9Th2Ggr9"
      }
    },
    {
      "cell_type": "code",
      "source": [
        "print(f'Tree accuracy with test: {forest.score(features_test, target_test)}')\n",
        "\n",
        "#predict the the mobile plan whether is ultra or no\n",
        "predicts_test = pd.Series(tree.predict(features_test), index=target_test.index)\n",
        "#get the frequecy of people on each plan\n",
        "plan_frequency = predicts_test.value_counts(normalize=True)\n",
        "plan_frequency.plot(kind='bar')"
      ],
      "metadata": {
        "colab": {
          "base_uri": "https://localhost:8080/",
          "height": 297
        },
        "id": "Gp24dSc-Ftza",
        "outputId": "cee08471-e211-4ef3-8e3d-9a2966e1ce49"
      },
      "execution_count": 51,
      "outputs": [
        {
          "output_type": "stream",
          "name": "stdout",
          "text": [
            "Tree accuracy with test: 0.7711442786069652\n"
          ]
        },
        {
          "output_type": "execute_result",
          "data": {
            "text/plain": [
              "<matplotlib.axes._subplots.AxesSubplot at 0x7fe2be284b10>"
            ]
          },
          "metadata": {},
          "execution_count": 51
        },
        {
          "output_type": "display_data",
          "data": {
            "text/plain": [
              "<Figure size 432x288 with 1 Axes>"
            ],
            "image/png": "[encoded data removed]"
          },
          "metadata": {
            "needs_background": "light"
          }
        }
      ]
    },
    {
      "cell_type": "markdown",
      "source": [
        "## Observations\n",
        "* from the data set we can predict the most preferred mobile plan using a model.\n",
        "* majority of the subscribers are on Smart plan"
      ],
      "metadata": {
        "id": "RM9jtTsTGcOE"
      }
    }
  ]
}